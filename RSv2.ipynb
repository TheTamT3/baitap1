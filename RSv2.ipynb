{
 "cells": [
  {
   "cell_type": "code",
   "execution_count": 107,
   "metadata": {},
   "outputs": [
    {
     "name": "stdout",
     "output_type": "stream",
     "text": [
      "---------------------------------------------------------------------------------------------------------------\n",
      "---MA TRAN BAN DAU-----\n",
      "[[3.02736074 2.         2.         4.50684019 1.        ]\n",
      " [1.         3.         5.         4.         1.96571316]\n",
      " [5.         5.         2.         5.         3.        ]\n",
      " [5.         2.                nan 4.         5.        ]\n",
      " [4.         3.47726751 2.         4.4924225  4.        ]]\n",
      "---MA TRAN USER DU DOAN-----\n",
      "[[3. 2. 2. 5. 1.]\n",
      " [1. 3. 5. 4. 2.]\n",
      " [5. 5. 2. 5. 3.]\n",
      " [5. 2. 2. 4. 5.]\n",
      " [4. 3. 2. 4. 4.]]\n",
      "----------------------------------------------------------------------------------\n",
      "----MA TRẬN ITEM BAN ĐẦU\n",
      "[[3.02736074 1.         5.         5.         4.        ]\n",
      " [2.         3.         5.         2.         3.47726751]\n",
      " [2.         5.         2.                nan 2.        ]\n",
      " [4.50684019 4.         5.         4.         4.4924225 ]\n",
      " [1.         1.96571316 3.         5.         4.        ]]\n",
      "---MA TRAN ITEM DU DOAN-----\n"
     ]
    }
   ],
   "source": [
    "import pandas as pd\n",
    "import numpy as np\n",
    "import math\n",
    "from sklearn.metrics.pairwise import cosine_similarity\n",
    "result = pd.read_csv(\"C:\\\\Users\\\\THE TAM\\\\Desktop\\\\data.csv\")\n",
    "#chuyen Dataframe sang Numpy\n",
    "m_u = result.values[:,:]\n",
    "Sim = np.zeros((result.shape[0],result.shape[0]))\n",
    "print(\"---------------------------------------------------------------------------------------------------------------\")\n",
    "\n",
    "# tính sim(u,u')\n",
    "def cal_each_sim(M,i,j):\n",
    "    N=M.copy()   \n",
    "    t=0\n",
    "    m=0\n",
    "    tong=0\n",
    "    tich_a=0\n",
    "    tich_b=0\n",
    "    for k in range(0,M.shape[1]): \n",
    "        if( (pd.isnull(M[i,k])==False) and (pd.isnull(M[j,k])==False) ):\n",
    "            a=float(M[i,k])\n",
    "            b=float(M[j,k])\n",
    "            #TINH TU SO\n",
    "            tong+=(M[i,k]*M[j,k])\n",
    "            # TINH MAU SO\n",
    "            tich_a+= a**2\n",
    "            tich_b+= b**2\n",
    "    M=pd.DataFrame(M).dropna(axis=1)\n",
    "    t=tong\n",
    "    m = np.sqrt(tich_a*tich_b);\n",
    "    return t/m\n",
    "# gán sim(u,u') vào ma trận user, item\n",
    "def cal_sum_sim(M):\n",
    "    #print(\"--------SHAPE----------\")\n",
    "    #print(M.shape[0])\n",
    "    for i in range(0,M.shape[0]):\n",
    "        for j in range (0,M.shape[0]):\n",
    "            if(i==j):\n",
    "                Sim[i,j]=1;\n",
    "            else:\n",
    "                Sim[i,j]=cal_each_sim(M,i,j);\n",
    "    return Sim;\n",
    "# tìm K láng giềng\n",
    "# y tuong: sắp xếp Sim(u,u') tăng dần, sau đó lấy hai giá trị Sim cao nhất, không lấy giá trị 1 ( vì đó là Sim(u,u) luôn =1 )\n",
    "def findK(C,m,K,sort_m):\n",
    "    value=0\n",
    "    u_ner = np.zeros(K)\n",
    "    for k in range(1,K+1):\n",
    "        value = sort_m[m,C.shape[1]-k-1]\n",
    "        for u_phay in range(0,C.shape[1]):\n",
    "            if(value == C[m,u_phay]):\n",
    "                u_ner[k-1]=u_phay\n",
    "                break       \n",
    "    return u_ner\n",
    "# Ma tran du doan\n",
    "def predic_M(M,K):\n",
    "    cosin = cal_sum_sim(M)\n",
    "    #print(cosin)\n",
    "    sort_m = np.sort(cosin)\n",
    "    for u in range(0,M.shape[0]):\n",
    "        u_ner = findK(cosin,u,K,sort_m)\n",
    "        for i in range(0,M.shape[1]):\n",
    "            if(pd.isnull(M[u,i])==True):\n",
    "                tu=0\n",
    "                mau=0\n",
    "                for j in range(K):\n",
    "                    a=int(u_ner[j])\n",
    "                    tu+= (cosin[u,a]) * (M[a,i])\n",
    "                    mau+=(cosin[u,a])\n",
    "                M[u,i] = tu/mau  \n",
    "                #print(M[u,i])\n",
    "    return M\n",
    "\n",
    "\n",
    "print(\"---MA TRAN BAN DAU-----\")\n",
    "print(d)\n",
    "print(\"---MA TRAN USER DU DOAN-----\")\n",
    "for i in range(10):\n",
    "    m = predic_M(m,2)\n",
    "    m=np.around(m)\n",
    "print(m)       \n",
    "print(\"----------------------------------------------------------------------------------\")\n",
    "print(\"----MA TRẬN ITEM BAN ĐẦU\")\n",
    "#Cách làm như ma trận user, chỉ cần chuyển vị ma trận ban đầu (ma trận d) thì ta sẽ có ma trận theo item\n",
    "m_i = d.T\n",
    "print(m_i)\n",
    "print(\"---MA TRAN ITEM DU DOAN-----\")\n",
    "\n",
    "\n",
    "\n",
    "                         \n",
    "\n",
    "               \n",
    "    \n",
    "            \n",
    "    \n",
    "\n",
    "        \n",
    "        \n",
    "    \n",
    "    \n",
    "\n",
    "\n",
    "    "
   ]
  },
  {
   "cell_type": "code",
   "execution_count": 94,
   "metadata": {},
   "outputs": [
    {
     "name": "stdout",
     "output_type": "stream",
     "text": [
      "5\n"
     ]
    }
   ],
   "source": [
    "print(d.shape[0])"
   ]
  },
  {
   "cell_type": "code",
   "execution_count": 82,
   "metadata": {},
   "outputs": [
    {
     "name": "stdout",
     "output_type": "stream",
     "text": [
      "5\n"
     ]
    }
   ],
   "source": [
    "print(d.shape[1])"
   ]
  },
  {
   "cell_type": "code",
   "execution_count": null,
   "metadata": {},
   "outputs": [],
   "source": []
  }
 ],
 "metadata": {
  "kernelspec": {
   "display_name": "Python 3",
   "language": "python",
   "name": "python3"
  },
  "language_info": {
   "codemirror_mode": {
    "name": "ipython",
    "version": 3
   },
   "file_extension": ".py",
   "mimetype": "text/x-python",
   "name": "python",
   "nbconvert_exporter": "python",
   "pygments_lexer": "ipython3",
   "version": "3.7.6"
  }
 },
 "nbformat": 4,
 "nbformat_minor": 4
}
